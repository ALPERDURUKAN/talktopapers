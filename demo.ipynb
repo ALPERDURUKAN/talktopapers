{
 "cells": [
  {
   "cell_type": "code",
   "execution_count": 1,
   "id": "e0d05c51",
   "metadata": {},
   "outputs": [],
   "source": [
    "import sys\n",
    "sys.path.append(\"../\")"
   ]
  },
  {
   "cell_type": "code",
   "execution_count": 2,
   "id": "452a1f04",
   "metadata": {},
   "outputs": [],
   "source": [
    "from talktopapers.parse_paper import download_paper, parse_paper"
   ]
  },
  {
   "cell_type": "code",
   "execution_count": 4,
   "id": "6cb04dd0",
   "metadata": {},
   "outputs": [
    {
     "name": "stdout",
     "output_type": "stream",
     "text": [
      "1. Downloading paper\n",
      "Paper already exists!\n",
      "\n",
      "\n",
      "\n"
     ]
    }
   ],
   "source": [
    "filepath = download_paper(\"http://export.arxiv.org/pdf/1706.03762.pdf\")"
   ]
  },
  {
   "cell_type": "code",
   "execution_count": 6,
   "id": "bf091d43",
   "metadata": {},
   "outputs": [
    {
     "name": "stdout",
     "output_type": "stream",
     "text": [
      "2. Parsing paper\n",
      "Total number of pages: 15\n"
     ]
    }
   ],
   "source": [
    "paper_text = parse_paper(filepath)"
   ]
  },
  {
   "cell_type": "code",
   "execution_count": 7,
   "id": "c8cdcdeb",
   "metadata": {},
   "outputs": [
    {
     "data": {
      "text/plain": [
       "[{'fontsize': 17.2154, 'text': 'Attention Is All You Need', 'page': 0},\n",
       " {'fontsize': 9.9626,\n",
       "  'text': 'Ashish Vaswani Google Brain avaswani@google.com Noam Shazeer Google Brain noam@google.com Niki Parmar Google Research nikip@google.com Jakob Uszkoreit Google Research usz@google.com Llion Jones Google Research llion@google.com Aidan N. Gomez',\n",
       "  'page': 0},\n",
       " {'fontsize': 9.9626,\n",
       "  'text': 'University of Toronto aidan@cs.toronto.edu Łukasz Kaiser Google Brain lukaszkaiser@google.com Illia Polosukhin',\n",
       "  'page': 0},\n",
       " {'fontsize': 9.9626, 'text': 'illia.polosukhin@gmail.com', 'page': 0},\n",
       " {'fontsize': 11.9552, 'text': 'Abstract', 'page': 0},\n",
       " {'fontsize': 9.9626,\n",
       "  'text': 'The dominant sequence transduction models are based on complex recurrent or convolutional neural networks that include an encoder and a decoder. The best performing models also connect the encoder and decoder through an attention mechanism. We propose a new simple network architecture, the Transformer, based solely on attention mechanisms, dispensing with recurrence and convolutions entirely. Experiments on two machine translation tasks show these models to be superior in quality while being more parallelizable and requiring signiﬁcantly less time to train. Our model achieves 28.4 BLEU on the WMT 2014 English- to-German translation task, improving over the existing best results, including ensembles, by over 2 BLEU. On the WMT 2014 English-to-French translation task, our model establishes a new single-model state-of-the-art BLEU score of 41.8 after training for 3.5 days on eight GPUs, a small fraction of the training costs of the best models from the literature. We show that the Transformer generalizes well to other tasks by applying it successfully to English constituency parsing both with large and limited training data.',\n",
       "  'page': 0},\n",
       " {'fontsize': 11.9552, 'text': '1 Introduction', 'page': 0},\n",
       " {'fontsize': 9.9626,\n",
       "  'text': 'Recurrent neural networks, long short-term memory [ 13] and gated recurrent [ 7] neural networks in particular, have been ﬁrmly established as state of the art approaches in sequence modeling and',\n",
       "  'page': 0},\n",
       " {'fontsize': 8.9664,\n",
       "  'text': 'Equal contribution. Listing order is random. Jakob proposed replacing RNNs with self-attention and started the effort to evaluate this idea. Ashish, with Illia, designed and implemented the ﬁrst Transformer models and has been crucially involved in every aspect of this work. Noam proposed scaled dot-product attention, multi-head attention and the parameter-free position representation and became the other person involved in nearly every detail. Niki designed, implemented, tuned and evaluated countless model variants in our original codebase and tensor2tensor. Llion also experimented with novel model variants, was responsible for our initial codebase, and efﬁcient inference and visualizations. Lukasz and Aidan spent countless long days designing various parts of and implementing tensor2tensor, replacing our earlier codebase, greatly improving results and massively accelerating our research. Work performed while at Google Brain. Work performed while at Google Research. 31st Conference on Neural Information Processing Systems (NIPS 2017), Long Beach, CA, USA.',\n",
       "  'page': 0},\n",
       " {'fontsize': 9.9626,\n",
       "  'text': 'transduction problems such as language modeling and machine translation [ 35,2,5]. Numerous efforts have since continued to push the boundaries of recurrent language models and encoder-decoder architectures [38, 24, 15]. Recurrent models typically factor computation along the symbol positions of the input and output sequences. Aligning the positions to steps in computation time, they generate a sequence of hidden states , as a function of the previous hidden state and the input for position . This inherently sequential nature precludes parallelization within training examples, which becomes critical at longer sequence lengths, as memory constraints limit batching across examples. Recent work has achieved signiﬁcant improvements in computational efﬁciency through factorization tricks [ 21] and conditional computation [ 32], while also improving model performance in case of the latter. The fundamental constraint of sequential computation, however, remains. Attention mechanisms have become an integral part of compelling sequence modeling and transduc- tion models in various tasks, allowing modeling of dependencies without regard to their distance in the input or output sequences [ 2,19]. In all but a few cases [ 27], however, such attention mechanisms are used in conjunction with a recurrent network. In this work we propose the Transformer, a model architecture eschewing recurrence and instead relying entirely on an attention mechanism to draw global dependencies between input and output. The Transformer allows for signiﬁcantly more parallelization and can reach a new state of the art in translation quality after being trained for as little as twelve hours on eight P100 GPUs.',\n",
       "  'page': 1},\n",
       " {'fontsize': 11.9552, 'text': '2 Background', 'page': 1},\n",
       " {'fontsize': 9.9626,\n",
       "  'text': 'The goal of reducing sequential computation also forms the foundation of the Extended Neural GPU [16], ByteNet [ 18] and ConvS2S [ 9], all of which use convolutional neural networks as basic building block, computing hidden representations in parallel for all input and output positions. In these models, the number of operations required to relate signals from two arbitrary input or output positions grows in the distance between positions, linearly for ConvS2S and logarithmically for ByteNet. This makes it more difﬁcult to learn dependencies between distant positions [ 12]. In the Transformer this is reduced to a constant number of operations, albeit at the cost of reduced effective resolution due to averaging attention-weighted positions, an effect we counteract with Multi-Head Attention as described in section 3.2. Self-attention, sometimes called intra-attention is an attention mechanism relating different positions of a single sequence in order to compute a representation of the sequence. Self-attention has been used successfully in a variety of tasks including reading comprehension, abstractive summarization, textual entailment and learning task-independent sentence representations [4, 27, 28, 22]. End-to-end memory networks are based on a recurrent attention mechanism instead of sequence- aligned recurrence and have been shown to perform well on simple-language question answering and language modeling tasks [34]. To the best of our knowledge, however, the Transformer is the ﬁrst transduction model relying entirely on self-attention to compute representations of its input and output without using sequence- aligned RNNs or convolution. In the following sections, we will describe the Transformer, motivate self-attention and discuss its advantages over models such as [17, 18] and [9].',\n",
       "  'page': 1},\n",
       " {'fontsize': 11.9552, 'text': '3 Model Architecture', 'page': 1},\n",
       " {'fontsize': 9.9626,\n",
       "  'text': 'Figure 1: The Transformer - model architecture. 3.1 Encoder and Decoder Stacks Encoder: The encoder is composed of a stack of = 6 identical layers. Each layer has two sub-layers. The ﬁrst is a multi-head self-attention mechanism, and the second is a simple, position- wise fully connected feed-forward network. We employ a residual connection [ 11] around each of the two sub-layers, followed by layer normalization [ 1]. That is, the output of each sub-layer is LayerNorm( + Sublayer( )) , where Sublayer( is the function implemented by the sub-layer itself. To facilitate these residual connections, all sub-layers in the model, as well as the embedding layers, produce outputs of dimension',\n",
       "  'page': 2},\n",
       " {'fontsize': 6.9738, 'text': 'model', 'page': 2},\n",
       " {'fontsize': 9.9626,\n",
       "  'text': 'Scaled Dot-Product Attention Multi-Head Attention Figure 2: (left) Scaled Dot-Product Attention. (right) Multi-Head Attention consists of several attention layers running in parallel. 3.2.1 Scaled Dot-Product Attention We call our particular attention \"Scaled Dot-Product Attention\" (Figure 2). The input consists of queries and keys of dimension , and values of dimension . We compute the dot products of the query with all keys, divide each by , and apply a softmax function to obtain the weights on the values. In practice, we compute the attention function on a set of queries simultaneously, packed together into a matrix . The keys and values are also packed together into matrices and . We compute the matrix of outputs as: Attention( Q;K;V ) = softmax( QK (1) The two most commonly used attention functions are additive attention [ 2], and dot-product (multi- plicative) attention. Dot-product attention is identical to our algorithm, except for the scaling factor of . Additive attention computes the compatibility function using a feed-forward network with a single hidden layer. While the two are similar in theoretical complexity, dot-product attention is much faster and more space-efﬁcient in practice, since it can be implemented using highly optimized matrix multiplication code. While for small values of the two mechanisms perform similarly, additive attention outperforms dot product attention without scaling for larger values of [3]. We suspect that for large values of , the dot products grow large in magnitude, pushing the softmax function into regions where it has extremely small gradients . To counteract this effect, we scale the dot products by 3.2.2 Multi-Head Attention Instead of performing a single attention function with',\n",
       "  'page': 3},\n",
       " {'fontsize': 6.9738, 'text': 'model', 'page': 3},\n",
       " {'fontsize': 9.9626,\n",
       "  'text': '-dimensional keys, values and queries, we found it beneﬁcial to linearly project the queries, keys and values times with different, learned linear projections to and dimensions, respectively. On each of these projected versions of queries, keys and values we then perform the attention function in parallel, yielding -dimensional output values. These are concatenated and once again projected, resulting in the ﬁnal values, as depicted in Figure 2.',\n",
       "  'page': 3},\n",
       " {'fontsize': 8.9664,\n",
       "  'text': 'To illustrate why the dot products get large, assume that the components of and are independent random variables with mean and variance . Then their dot product,',\n",
       "  'page': 3},\n",
       " {'fontsize': 5.9776, 'text': '=1', 'page': 3},\n",
       " {'fontsize': 9.9626,\n",
       "  'text': 'Multi-head attention allows the model to jointly attend to information from different representation subspaces at different positions. With a single attention head, averaging inhibits this. MultiHead( Q;K;V ) = Concat(head ;:::; head where head = Attention( QW ;KW ;VW Where the projections are parameter matrices',\n",
       "  'page': 4},\n",
       " {'fontsize': 4.9813, 'text': 'model model model', 'page': 4},\n",
       " {'fontsize': 9.9626, 'text': 'and', 'page': 4},\n",
       " {'fontsize': 6.9738, 'text': 'hd', 'page': 4},\n",
       " {'fontsize': 4.9813, 'text': 'model', 'page': 4},\n",
       " {'fontsize': 9.9626,\n",
       "  'text': 'In this work we employ = 8 parallel attention layers, or heads. For each of these we use',\n",
       "  'page': 4},\n",
       " {'fontsize': 6.9738, 'text': 'model', 'page': 4},\n",
       " {'fontsize': 9.9626,\n",
       "  'text': '=h = 64 . Due to the reduced dimension of each head, the total computational cost is similar to that of single-head attention with full dimensionality. 3.2.3 Applications of Attention in our Model The Transformer uses multi-head attention in three different ways: In \"encoder-decoder attention\" layers, the queries come from the previous decoder layer, and the memory keys and values come from the output of the encoder. This allows every position in the decoder to attend over all positions in the input sequence. This mimics the typical encoder-decoder attention mechanisms in sequence-to-sequence models such as [38, 2, 9]. The encoder contains self-attention layers. In a self-attention layer all of the keys, values and queries come from the same place, in this case, the output of the previous layer in the encoder. Each position in the encoder can attend to all positions in the previous layer of the encoder. Similarly, self-attention layers in the decoder allow each position in the decoder to attend to all positions in the decoder up to and including that position. We need to prevent leftward information ﬂow in the decoder to preserve the auto-regressive property. We implement this inside of scaled dot-product attention by masking out (setting to \\x001 ) all values in the input of the softmax which correspond to illegal connections. See Figure 2. 3.3 Position-wise Feed-Forward Networks In addition to attention sub-layers, each of the layers in our encoder and decoder contains a fully connected feed-forward network, which is applied to each position separately and identically. This consists of two linear transformations with a ReLU activation in between. FFN( ) = max(0 ;xW (2) While the linear transformations are the same across different positions, they use different parameters from layer to layer. Another way of describing this is as two convolutions with kernel size 1. The dimensionality of input and output is',\n",
       "  'page': 4},\n",
       " {'fontsize': 6.9738, 'text': 'model', 'page': 4},\n",
       " {'fontsize': 9.9626,\n",
       "  'text': '= 512 , and the inner-layer has dimensionality',\n",
       "  'page': 4},\n",
       " {'fontsize': 6.9738, 'text': 'ff', 'page': 4},\n",
       " {'fontsize': 9.9626,\n",
       "  'text': '= 2048 3.4 Embeddings and Softmax Similarly to other sequence transduction models, we use learned embeddings to convert the input tokens and output tokens to vectors of dimension',\n",
       "  'page': 4},\n",
       " {'fontsize': 6.9738, 'text': 'model', 'page': 4},\n",
       " {'fontsize': 9.9626,\n",
       "  'text': '. We also use the usual learned linear transfor- mation and softmax function to convert the decoder output to predicted next-token probabilities. In our model, we share the same weight matrix between the two embedding layers and the pre-softmax linear transformation, similar to [ 30]. In the embedding layers, we multiply those weights by',\n",
       "  'page': 4},\n",
       " {'fontsize': 6.9738, 'text': 'model', 'page': 4},\n",
       " {'fontsize': 9.9626,\n",
       "  'text': 'Table 1: Maximum path lengths, per-layer complexity and minimum number of sequential operations for different layer types. is the sequence length, is the representation dimension, is the kernel size of convolutions and the size of the neighborhood in restricted self-attention. Layer Type Complexity per Layer Sequential Maximum Path Length Operations Self-Attention (1) (1) Recurrent Convolutional (1) log )) Self-Attention (restricted) (1) n=r tokens in the sequence. To this end, we add \"positional encodings\" to the input embeddings at the bottoms of the encoder and decoder stacks. The positional encodings have the same dimension',\n",
       "  'page': 5},\n",
       " {'fontsize': 6.9738, 'text': 'model', 'page': 5},\n",
       " {'fontsize': 9.9626,\n",
       "  'text': 'as the embeddings, so that the two can be summed. There are many choices of positional encodings, learned and ﬁxed [9]. In this work, we use sine and cosine functions of different frequencies: PE',\n",
       "  'page': 5},\n",
       " {'fontsize': 6.9738, 'text': 'pos;', 'page': 5},\n",
       " {'fontsize': 9.9626, 'text': 'sin pos= 10000', 'page': 5},\n",
       " {'fontsize': 6.9738, 'text': 'i=d', 'page': 5},\n",
       " {'fontsize': 4.9813, 'text': 'model', 'page': 5},\n",
       " {'fontsize': 9.9626, 'text': 'PE', 'page': 5},\n",
       " {'fontsize': 6.9738, 'text': 'pos; +1)', 'page': 5},\n",
       " {'fontsize': 9.9626, 'text': 'cos pos= 10000', 'page': 5},\n",
       " {'fontsize': 6.9738, 'text': 'i=d', 'page': 5},\n",
       " {'fontsize': 4.9813, 'text': 'model', 'page': 5},\n",
       " {'fontsize': 9.9626,\n",
       "  'text': 'where pos is the position and is the dimension. That is, each dimension of the positional encoding corresponds to a sinusoid. The wavelengths form a geometric progression from to 10000 . We chose this function because we hypothesized it would allow the model to easily learn to attend by relative positions, since for any ﬁxed offset PE',\n",
       "  'page': 5},\n",
       " {'fontsize': 6.9738, 'text': 'pos', 'page': 5},\n",
       " {'fontsize': 9.9626,\n",
       "  'text': 'can be represented as a linear function of PE',\n",
       "  'page': 5},\n",
       " {'fontsize': 6.9738, 'text': 'pos', 'page': 5},\n",
       " {'fontsize': 9.9626,\n",
       "  'text': 'We also experimented with using learned positional embeddings [ 9] instead, and found that the two versions produced nearly identical results (see Table 3 row (E)). We chose the sinusoidal version because it may allow the model to extrapolate to sequence lengths longer than the ones encountered during training.',\n",
       "  'page': 5},\n",
       " {'fontsize': 11.9552, 'text': '4 Why Self-Attention', 'page': 5},\n",
       " {'fontsize': 9.9626,\n",
       "  'text': 'the input sequence centered around the respective output position. This would increase the maximum path length to n=r . We plan to investigate this approach further in future work. A single convolutional layer with kernel width k<n does not connect all pairs of input and output positions. Doing so requires a stack of n=k convolutional layers in the case of contiguous kernels, or log )) in the case of dilated convolutions [ 18], increasing the length of the longest paths between any two positions in the network. Convolutional layers are generally more expensive than recurrent layers, by a factor of . Separable convolutions [ 6], however, decrease the complexity considerably, to . Even with , however, the complexity of a separable convolution is equal to the combination of a self-attention layer and a point-wise feed-forward layer, the approach we take in our model. As side beneﬁt, self-attention could yield more interpretable models. We inspect attention distributions from our models and present and discuss examples in the appendix. Not only do individual attention heads clearly learn to perform different tasks, many appear to exhibit behavior related to the syntactic and semantic structure of the sentences.',\n",
       "  'page': 6},\n",
       " {'fontsize': 11.9552, 'text': '5 Training', 'page': 6},\n",
       " {'fontsize': 9.9626,\n",
       "  'text': 'This section describes the training regime for our models. 5.1 Training Data and Batching We trained on the standard WMT 2014 English-German dataset consisting of about 4.5 million sentence pairs. Sentences were encoded using byte-pair encoding [ 3], which has a shared source- target vocabulary of about 37000 tokens. For English-French, we used the signiﬁcantly larger WMT 2014 English-French dataset consisting of 36M sentences and split tokens into a 32000 word-piece vocabulary [ 38]. Sentence pairs were batched together by approximate sequence length. Each training batch contained a set of sentence pairs containing approximately 25000 source tokens and 25000 target tokens. 5.2 Hardware and Schedule We trained our models on one machine with 8 NVIDIA P100 GPUs. For our base models using the hyperparameters described throughout the paper, each training step took about 0.4 seconds. We trained the base models for a total of 100,000 steps or 12 hours. For our big models,(described on the bottom line of table 3), step time was 1.0 seconds. The big models were trained for 300,000 steps (3.5 days). 5.3 Optimizer We used the Adam optimizer [ 20] with = 0 = 0 98 and = 10 . We varied the learning rate over the course of training, according to the formula: lrate',\n",
       "  'page': 6},\n",
       " {'fontsize': 6.9738, 'text': 'model', 'page': 6},\n",
       " {'fontsize': 9.9626,\n",
       "  'text': 'min( step num ;step num warmup steps (3) This corresponds to increasing the learning rate linearly for the ﬁrst warmup steps training steps, and decreasing it thereafter proportionally to the inverse square root of the step number. We used warmup steps = 4000 5.4 Regularization We employ three types of regularization during training: Residual Dropout We apply dropout [ 33] to the output of each sub-layer, before it is added to the sub-layer input and normalized. In addition, we apply dropout to the sums of the embeddings and the positional encodings in both the encoder and decoder stacks. For the base model, we use a rate of',\n",
       "  'page': 6},\n",
       " {'fontsize': 6.9738, 'text': 'drop', 'page': 6},\n",
       " {'fontsize': 9.9626,\n",
       "  'text': 'Table 2: The Transformer achieves better BLEU scores than previous state-of-the-art models on the English-to-German and English-to-French newstest2014 tests at a fraction of the training cost. ModelBLEU Training Cost (FLOPs) EN-DE EN-FR EN-DE EN-FR ByteNet [18] 23.75 Deep-Att + PosUnk [39] 39.2 10',\n",
       "  'page': 7},\n",
       " {'fontsize': 6.9738, 'text': '20', 'page': 7},\n",
       " {'fontsize': 9.9626, 'text': 'GNMT + RL [38] 24.6 39.92 10', 'page': 7},\n",
       " {'fontsize': 6.9738, 'text': '19', 'page': 7},\n",
       " {'fontsize': 9.9626, 'text': '10', 'page': 7},\n",
       " {'fontsize': 6.9738, 'text': '20', 'page': 7},\n",
       " {'fontsize': 9.9626, 'text': 'ConvS2S [9] 25.16 40.46 10', 'page': 7},\n",
       " {'fontsize': 6.9738, 'text': '18', 'page': 7},\n",
       " {'fontsize': 9.9626, 'text': '10', 'page': 7},\n",
       " {'fontsize': 6.9738, 'text': '20', 'page': 7},\n",
       " {'fontsize': 9.9626, 'text': 'MoE [32] 26.03 40.56 10', 'page': 7},\n",
       " {'fontsize': 6.9738, 'text': '19', 'page': 7},\n",
       " {'fontsize': 9.9626, 'text': '10', 'page': 7},\n",
       " {'fontsize': 6.9738, 'text': '20', 'page': 7},\n",
       " {'fontsize': 9.9626,\n",
       "  'text': 'Deep-Att + PosUnk Ensemble [39] 40.4 10',\n",
       "  'page': 7},\n",
       " {'fontsize': 6.9738, 'text': '20', 'page': 7},\n",
       " {'fontsize': 9.9626,\n",
       "  'text': 'GNMT + RL Ensemble [38] 26.30 41.16 10',\n",
       "  'page': 7},\n",
       " {'fontsize': 6.9738, 'text': '20', 'page': 7},\n",
       " {'fontsize': 9.9626, 'text': '10', 'page': 7},\n",
       " {'fontsize': 6.9738, 'text': '21', 'page': 7},\n",
       " {'fontsize': 9.9626,\n",
       "  'text': 'ConvS2S Ensemble [9] 26.36 41.29 10',\n",
       "  'page': 7},\n",
       " {'fontsize': 6.9738, 'text': '19', 'page': 7},\n",
       " {'fontsize': 9.9626, 'text': '10', 'page': 7},\n",
       " {'fontsize': 6.9738, 'text': '21', 'page': 7},\n",
       " {'fontsize': 9.9626,\n",
       "  'text': 'Transformer (base model) 27.3 38.1 10',\n",
       "  'page': 7},\n",
       " {'fontsize': 6.9738, 'text': '18', 'page': 7},\n",
       " {'fontsize': 9.9626, 'text': 'Transformer (big) 28.4 41.8 10', 'page': 7},\n",
       " {'fontsize': 6.9738, 'text': '19', 'page': 7},\n",
       " {'fontsize': 9.9626,\n",
       "  'text': 'Label Smoothing During training, we employed label smoothing of value',\n",
       "  'page': 7},\n",
       " {'fontsize': 6.9738, 'text': 'ls', 'page': 7},\n",
       " {'fontsize': 9.9626,\n",
       "  'text': '= 0 [36]. This hurts perplexity, as the model learns to be more unsure, but improves accuracy and BLEU score.',\n",
       "  'page': 7},\n",
       " {'fontsize': 11.9552, 'text': '6 Results', 'page': 7},\n",
       " {'fontsize': 9.9626,\n",
       "  'text': '6.1 Machine Translation On the WMT 2014 English-to-German translation task, the big transformer model (Transformer (big) in Table 2) outperforms the best previously reported models (including ensembles) by more than BLEU, establishing a new state-of-the-art BLEU score of 28 . The conﬁguration of this model is listed in the bottom line of Table 3. Training took days on P100 GPUs. Even our base model surpasses all previously published models and ensembles, at a fraction of the training cost of any of the competitive models. On the WMT 2014 English-to-French translation task, our big model achieves a BLEU score of 41 outperforming all of the previously published single models, at less than the training cost of the previous state-of-the-art model. The Transformer (big) model trained for English-to-French used dropout rate',\n",
       "  'page': 7},\n",
       " {'fontsize': 6.9738, 'text': 'drop', 'page': 7},\n",
       " {'fontsize': 9.9626,\n",
       "  'text': '= 0 , instead of For the base models, we used a single model obtained by averaging the last 5 checkpoints, which were written at 10-minute intervals. For the big models, we averaged the last 20 checkpoints. We used beam search with a beam size of and length penalty = 0 [38]. These hyperparameters were chosen after experimentation on the development set. We set the maximum output length during inference to input length + 50 , but terminate early when possible [38]. Table 2 summarizes our results and compares our translation quality and training costs to other model architectures from the literature. We estimate the number of ﬂoating point operations used to train a model by multiplying the training time, the number of GPUs used, and an estimate of the sustained single-precision ﬂoating-point capacity of each GPU 6.2 Model Variations To evaluate the importance of different components of the Transformer, we varied our base model in different ways, measuring the change in performance on English-to-German translation on the development set, newstest2013. We used beam search as described in the previous section, but no checkpoint averaging. We present these results in Table 3. In Table 3 rows (A), we vary the number of attention heads and the attention key and value dimensions, keeping the amount of computation constant, as described in Section 3.2.2. While single-head attention is 0.9 BLEU worse than the best setting, quality also drops off with too many heads.',\n",
       "  'page': 7},\n",
       " {'fontsize': 9.9626,\n",
       "  'text': 'Table 3: Variations on the Transformer architecture. Unlisted values are identical to those of the base model. All metrics are on the English-to-German translation development set, newstest2013. Listed perplexities are per-wordpiece, according to our byte-pair encoding, and should not be compared to per-word perplexities. N d',\n",
       "  'page': 8},\n",
       " {'fontsize': 6.9738, 'text': 'model ff', 'page': 8},\n",
       " {'fontsize': 9.9626, 'text': 'h d', 'page': 8},\n",
       " {'fontsize': 6.9738, 'text': 'drop ls', 'page': 8},\n",
       " {'fontsize': 9.9626,\n",
       "  'text': 'constraints and is signiﬁcantly longer than the input. Furthermore, RNN sequence-to-sequence models have not been able to attain state-of-the-art results in small-data regimes [37]. We trained a 4-layer transformer with',\n",
       "  'page': 9},\n",
       " {'fontsize': 6.9738, 'text': 'model', 'page': 9},\n",
       " {'fontsize': 9.9626,\n",
       "  'text': '= 1024 on the Wall Street Journal (WSJ) portion of the Penn Treebank [ 25], about 40K training sentences. We also trained it in a semi-supervised setting, using the larger high-conﬁdence and BerkleyParser corpora from with approximately 17M sentences [37]. We used a vocabulary of 16K tokens for the WSJ only setting and a vocabulary of 32K tokens for the semi-supervised setting. We performed only a small number of experiments to select the dropout, both attention and residual (section 5.4), learning rates and beam size on the Section 22 development set, all other parameters remained unchanged from the English-to-German base translation model. During inference, we increased the maximum output length to input length + 300 . We used a beam size of 21 and = 0 for both WSJ only and the semi-supervised setting. Our results in Table 4 show that despite the lack of task-speciﬁc tuning our model performs sur- prisingly well, yielding better results than all previously reported models with the exception of the Recurrent Neural Network Grammar [8]. In contrast to RNN sequence-to-sequence models [ 37], the Transformer outperforms the Berkeley- Parser [29] even when training only on the WSJ training set of 40K sentences.',\n",
       "  'page': 9},\n",
       " {'fontsize': 11.9552, 'text': '7 Conclusion', 'page': 9},\n",
       " {'fontsize': 9.9626,\n",
       "  'text': 'In this work, we presented the Transformer, the ﬁrst sequence transduction model based entirely on attention, replacing the recurrent layers most commonly used in encoder-decoder architectures with multi-headed self-attention. For translation tasks, the Transformer can be trained signiﬁcantly faster than architectures based on recurrent or convolutional layers. On both WMT 2014 English-to-German and WMT 2014 English-to-French translation tasks, we achieve a new state of the art. In the former task our best model outperforms even all previously reported ensembles. We are excited about the future of attention-based models and plan to apply them to other tasks. We plan to extend the Transformer to problems involving input and output modalities other than text and to investigate local, restricted attention mechanisms to efﬁciently handle large inputs and outputs such as images, audio and video. Making generation less sequential is another research goals of ours. The code we used to train and evaluate our models is available at https://github.com/ tensorflow/tensor2tensor Acknowledgements We are grateful to Nal Kalchbrenner and Stephan Gouws for their fruitful comments, corrections and inspiration.',\n",
       "  'page': 9},\n",
       " {'fontsize': 11.9552, 'text': 'References', 'page': 9},\n",
       " {'fontsize': 11.9552, 'text': 'Attention Visualizations', 'page': 12},\n",
       " {'fontsize': 1.0,\n",
       "  'text': 'Input-Input Layer5 It is in this spirit that majority of American governments have passed new laws since 2009 making the registration or voting process more difficult <EOS> <pad> <pad> <pad> <pad> <pad> <pad> It is in of or',\n",
       "  'page': 12},\n",
       " {'fontsize': 11.9552,\n",
       "  'text': 'Input-Input Layer5\\nIt\\nis\\nin\\nthis\\nspirit\\nthat\\na\\nmajority\\nof\\nAmerican\\ngovernments\\nhave\\npassed\\nnew\\nlaws\\nsince\\n2009\\nmaking\\nthe\\nregistration\\nor\\nvoting\\nprocess\\nmore\\ndifficult\\n.\\n<EOS>\\n<pad>\\n<pad>\\n<pad>\\n<pad>\\n<pad>\\n<pad>\\nIt\\nis\\nin\\nthis\\nspirit\\nthat\\na\\nmajority\\nof\\nAmerican\\ngovernments\\nhave\\npassed\\nnew\\nlaws\\nsince\\n2009\\nmaking\\nthe\\nregistration\\nor\\nvoting\\nprocess\\nmore\\ndifficult\\n.\\n<EOS>\\n<pad>\\n<pad>\\n<pad>\\n<pad>\\n<pad>\\n<pad>',\n",
       "  'page': 12},\n",
       " {'fontsize': 1.0,\n",
       "  'text': 'Input-Input Layer5 The Law will never be perfect but its application should be just this is what we are missing in my opinion <EOS> <pad> Input-Input Layer5 The Law will never be perfect but its application should be just this is what we are missing in my opinion <EOS> <pad> be its be is in',\n",
       "  'page': 13},\n",
       " {'fontsize': 1.0,\n",
       "  'text': 'Input-Input Layer5 The Law will never be perfect but its application should be just this is what we are missing in my opinion <EOS> <pad> Input-Input Layer5 The Law will never be perfect but its application should be just this is what we are missing in my opinion <EOS> <pad>',\n",
       "  'page': 14}]"
      ]
     },
     "execution_count": 7,
     "metadata": {},
     "output_type": "execute_result"
    }
   ],
   "source": [
    "paper_text"
   ]
  },
  {
   "cell_type": "code",
   "execution_count": 8,
   "id": "e1c49d02",
   "metadata": {},
   "outputs": [
    {
     "data": {
      "text/plain": [
       "109"
      ]
     },
     "execution_count": 8,
     "metadata": {},
     "output_type": "execute_result"
    }
   ],
   "source": [
    "len(paper_text)"
   ]
  },
  {
   "cell_type": "code",
   "execution_count": null,
   "id": "fc3a7843",
   "metadata": {},
   "outputs": [],
   "source": []
  }
 ],
 "metadata": {
  "kernelspec": {
   "display_name": "Python 3 (ipykernel)",
   "language": "python",
   "name": "python3"
  },
  "language_info": {
   "codemirror_mode": {
    "name": "ipython",
    "version": 3
   },
   "file_extension": ".py",
   "mimetype": "text/x-python",
   "name": "python",
   "nbconvert_exporter": "python",
   "pygments_lexer": "ipython3",
   "version": "3.8.13"
  }
 },
 "nbformat": 4,
 "nbformat_minor": 5
}
